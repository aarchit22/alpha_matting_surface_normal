{
  "nbformat": 4,
  "nbformat_minor": 0,
  "metadata": {
    "colab": {
      "provenance": [],
      "gpuType": "T4",
      "authorship_tag": "ABX9TyMHbHKHiKTf3ESugW6Frheu",
      "include_colab_link": true
    },
    "kernelspec": {
      "name": "python3",
      "display_name": "Python 3"
    },
    "language_info": {
      "name": "python"
    },
    "accelerator": "GPU"
  },
  "cells": [
    {
      "cell_type": "markdown",
      "metadata": {
        "id": "view-in-github",
        "colab_type": "text"
      },
      "source": [
        "<a href=\"https://colab.research.google.com/github/aarchit22/alpha_matting_surface_normal/blob/main/summer_project.ipynb\" target=\"_parent\"><img src=\"https://colab.research.google.com/assets/colab-badge.svg\" alt=\"Open In Colab\"/></a>"
      ]
    },
    {
      "cell_type": "code",
      "execution_count": null,
      "metadata": {
        "colab": {
          "base_uri": "https://localhost:8080/"
        },
        "id": "K0kBfcxfLhvq",
        "outputId": "065ea29a-b59f-400f-8f49-dfe9f8afc086"
      },
      "outputs": [
        {
          "output_type": "stream",
          "name": "stdout",
          "text": [
            "Wed May 22 12:07:41 2024       \n",
            "+---------------------------------------------------------------------------------------+\n",
            "| NVIDIA-SMI 535.104.05             Driver Version: 535.104.05   CUDA Version: 12.2     |\n",
            "|-----------------------------------------+----------------------+----------------------+\n",
            "| GPU  Name                 Persistence-M | Bus-Id        Disp.A | Volatile Uncorr. ECC |\n",
            "| Fan  Temp   Perf          Pwr:Usage/Cap |         Memory-Usage | GPU-Util  Compute M. |\n",
            "|                                         |                      |               MIG M. |\n",
            "|=========================================+======================+======================|\n",
            "|   0  Tesla T4                       Off | 00000000:00:04.0 Off |                    0 |\n",
            "| N/A   49C    P8              12W /  70W |      0MiB / 15360MiB |      0%      Default |\n",
            "|                                         |                      |                  N/A |\n",
            "+-----------------------------------------+----------------------+----------------------+\n",
            "                                                                                         \n",
            "+---------------------------------------------------------------------------------------+\n",
            "| Processes:                                                                            |\n",
            "|  GPU   GI   CI        PID   Type   Process name                            GPU Memory |\n",
            "|        ID   ID                                                             Usage      |\n",
            "|=======================================================================================|\n",
            "|  No running processes found                                                           |\n",
            "+---------------------------------------------------------------------------------------+\n"
          ]
        }
      ],
      "source": [
        "!nvidia-smi\n"
      ]
    },
    {
      "cell_type": "code",
      "source": [
        "#trimap generation\n",
        "\n",
        "%%writefile deep_script.py\n",
        "import os\n",
        "import argparse\n",
        "import torch\n",
        "import numpy as np\n",
        "from torchvision import transforms\n",
        "import cv2\n",
        "\n",
        "IMG_EXT = ('.png', '.jpg', '.jpeg', '.JPG', '.JPEG')\n",
        "\n",
        "CLASS_MAP = {\"background\": 0, \"aeroplane\": 1, \"bicycle\": 2, \"bird\": 3, \"boat\": 4, \"bottle\": 5, \"bus\": 6, \"car\": 7,\n",
        "             \"cat\": 8, \"chair\": 9, \"cow\": 10, \"diningtable\": 11, \"dog\": 12, \"horse\": 13, \"motorbike\": 14, \"person\": 15,\n",
        "             \"potted plant\": 16, \"sheep\": 17, \"sofa\": 18, \"train\": 19, \"tv/monitor\": 20}\n",
        "\n",
        "\n",
        "def trimap(probs, size, conf_threshold):\n",
        "    \"\"\"\n",
        "    This function creates a trimap based on simple dilation algorithm\n",
        "    Inputs [3]: an image with probabilities of each pixel being the foreground, size of dilation kernel,\n",
        "    foreground confidence threshold\n",
        "    Output    : a trimap\n",
        "    \"\"\"\n",
        "    mask = (probs > 0.05).astype(np.uint8) * 255\n",
        "\n",
        "    pixels = 2 * size + 1\n",
        "    kernel = np.ones((pixels, pixels), np.uint8)\n",
        "\n",
        "    dilation = cv2.dilate(mask, kernel, iterations=1)\n",
        "\n",
        "    remake = np.zeros_like(mask)\n",
        "    remake[dilation == 255] = 127  # Set every pixel within dilated region as probably foreground.\n",
        "    remake[probs > conf_threshold] = 255  # Set every pixel with large enough probability as definitely foreground.\n",
        "\n",
        "    return remake\n",
        "\n",
        "\n",
        "def parse_args():\n",
        "    parser = argparse.ArgumentParser(description=\"Deeplab Segmentation\")\n",
        "    parser.add_argument(\n",
        "        \"-i\",\n",
        "        \"--input_dir\",\n",
        "        type=str,\n",
        "        required=True,\n",
        "        help=\"Directory to save the output results. (required)\",\n",
        "    )\n",
        "    parser.add_argument(\n",
        "        \"--target_class\",\n",
        "        type=str,\n",
        "        default='person',\n",
        "        choices=CLASS_MAP.keys(),\n",
        "        help=\"Type of the foreground object.\",\n",
        "    )\n",
        "    parser.add_argument(\n",
        "        \"--show\",\n",
        "        action='store_true',\n",
        "        help=\"Use to show results.\",\n",
        "    )\n",
        "    parser.add_argument(\n",
        "        \"--conf_threshold\",\n",
        "        type=float,\n",
        "        default='0.95',\n",
        "        help=\"Confidence threshold for the foreground object. \"\n",
        "             \"You can play with it to get better looking trimaps.\",\n",
        "    )\n",
        "\n",
        "    args = parser.parse_args()\n",
        "    return args\n",
        "\n",
        "\n",
        "def main(input_dir, target_class, show, conf_threshold):\n",
        "    model = torch.hub.load('pytorch/vision:v0.6.0', 'deeplabv3_resnet101', pretrained=True)\n",
        "    model.eval()\n",
        "\n",
        "    trimaps_path = os.path.join(input_dir, \"trimaps\")\n",
        "    os.makedirs(trimaps_path, exist_ok=True)\n",
        "\n",
        "    images_list = os.listdir(input_dir)\n",
        "    for filename in images_list:\n",
        "        if not filename.endswith(IMG_EXT):\n",
        "            continue\n",
        "        input_image = cv2.imread(os.path.join(input_dir, filename))\n",
        "        original_image = input_image.copy()\n",
        "\n",
        "        input_image = cv2.cvtColor(input_image, cv2.COLOR_BGR2RGB)\n",
        "\n",
        "        preprocess = transforms.Compose([\n",
        "            transforms.ToTensor(),\n",
        "            transforms.Normalize(mean=[0.485, 0.456, 0.406], std=[0.229, 0.224, 0.225]),\n",
        "        ])\n",
        "\n",
        "        input_tensor = preprocess(input_image)\n",
        "        input_batch = input_tensor.unsqueeze(0)  # create a mini-batch as expected by the model\n",
        "\n",
        "        with torch.no_grad():\n",
        "            output = model(input_batch)['out'][0]\n",
        "            output = torch.softmax(output, 0)\n",
        "\n",
        "        output_cat = output[CLASS_MAP[target_class], ...].numpy()\n",
        "\n",
        "        trimap_image = trimap(output_cat, 7, conf_threshold)\n",
        "        trimap_filename ='trimapping.png'\n",
        "        cv2.imwrite(os.path.join(trimaps_path, trimap_filename), trimap_image)\n",
        "\n",
        "        # Optionally, save the resulting images\n",
        "        # cv2.imwrite(os.path.join(output_dir, filename), output_cat)\n",
        "        # cv2.imwrite(os.path.join(output_dir, trimap_filename), trimap_image)\n",
        "\n",
        "\n",
        "if __name__ == \"__main__\":\n",
        "    args = parse_args()\n",
        "    main(args.input_dir, args.target_class, args.show, args.conf_threshold)\n"
      ],
      "metadata": {
        "id": "8q2ZIdOqcPX0",
        "colab": {
          "base_uri": "https://localhost:8080/"
        },
        "outputId": "6a0aaa1e-8a4c-4b94-8fa4-129e02df1e36"
      },
      "execution_count": 7,
      "outputs": [
        {
          "output_type": "stream",
          "name": "stdout",
          "text": [
            "Overwriting deep_script.py\n"
          ]
        }
      ]
    },
    {
      "cell_type": "code",
      "source": [
        "# passing input RGB image for trimap\n",
        "\n",
        "input_dir = '/content/drive/MyDrive/bam'\n",
        "target_class = 'person'\n",
        "show = '--show'  # Set to '' if you do not want to show the results\n",
        "conf_threshold = 0.95\n",
        "\n",
        "!python deep_script.py -i {input_dir} --target_class {target_class} {show} --conf_threshold {conf_threshold}\n"
      ],
      "metadata": {
        "id": "mCk0uNyfcW24",
        "colab": {
          "base_uri": "https://localhost:8080/"
        },
        "outputId": "18678620-6c78-4f4a-8807-54beaf3e37d2"
      },
      "execution_count": 8,
      "outputs": [
        {
          "output_type": "stream",
          "name": "stdout",
          "text": [
            "Downloading: \"https://github.com/pytorch/vision/zipball/v0.6.0\" to /root/.cache/torch/hub/v0.6.0.zip\n",
            "/usr/local/lib/python3.10/dist-packages/torchvision/models/_utils.py:208: UserWarning: The parameter 'pretrained' is deprecated since 0.13 and may be removed in the future, please use 'weights' instead.\n",
            "  warnings.warn(\n",
            "/usr/local/lib/python3.10/dist-packages/torchvision/models/_utils.py:223: UserWarning: Arguments other than a weight enum or `None` for 'weights' are deprecated since 0.13 and may be removed in the future. The current behavior is equivalent to passing `weights=DeepLabV3_ResNet101_Weights.COCO_WITH_VOC_LABELS_V1`. You can also use `weights=DeepLabV3_ResNet101_Weights.DEFAULT` to get the most up-to-date weights.\n",
            "  warnings.warn(msg)\n",
            "Downloading: \"https://download.pytorch.org/models/deeplabv3_resnet101_coco-586e9e4e.pth\" to /root/.cache/torch/hub/checkpoints/deeplabv3_resnet101_coco-586e9e4e.pth\n",
            "100% 233M/233M [00:01<00:00, 175MB/s]\n"
          ]
        }
      ]
    },
    {
      "cell_type": "code",
      "source": [
        "!git clone https://github.com/pymatting/pymatting"
      ],
      "metadata": {
        "colab": {
          "base_uri": "https://localhost:8080/"
        },
        "id": "Ka68mZwaMUMI",
        "outputId": "ef2f88b0-4390-4301-b6b0-c4d3a8989ace"
      },
      "execution_count": null,
      "outputs": [
        {
          "output_type": "stream",
          "name": "stdout",
          "text": [
            "Cloning into 'pymatting'...\n",
            "remote: Enumerating objects: 1421, done.\u001b[K\n",
            "remote: Counting objects: 100% (414/414), done.\u001b[K\n",
            "remote: Compressing objects: 100% (200/200), done.\u001b[K\n",
            "remote: Total 1421 (delta 245), reused 240 (delta 214), pack-reused 1007\u001b[K\n",
            "Receiving objects: 100% (1421/1421), 7.33 MiB | 17.17 MiB/s, done.\n",
            "Resolving deltas: 100% (849/849), done.\n"
          ]
        }
      ]
    },
    {
      "cell_type": "code",
      "source": [
        "pip install pymatting"
      ],
      "metadata": {
        "colab": {
          "base_uri": "https://localhost:8080/"
        },
        "id": "7zYuNf6_N4dp",
        "outputId": "a1d5d729-107d-4635-8365-18bb4345921f"
      },
      "execution_count": 11,
      "outputs": [
        {
          "output_type": "stream",
          "name": "stdout",
          "text": [
            "Collecting pymatting\n",
            "  Downloading PyMatting-1.1.12-py3-none-any.whl (52 kB)\n",
            "\u001b[?25l     \u001b[90m━━━━━━━━━━━━━━━━━━━━━━━━━━━━━━━━━━━━━━━━\u001b[0m \u001b[32m0.0/53.0 kB\u001b[0m \u001b[31m?\u001b[0m eta \u001b[36m-:--:--\u001b[0m\r\u001b[2K     \u001b[90m━━━━━━━━━━━━━━━━━━━━━━━━━━━━━━━━━━━━━━━━\u001b[0m \u001b[32m53.0/53.0 kB\u001b[0m \u001b[31m2.3 MB/s\u001b[0m eta \u001b[36m0:00:00\u001b[0m\n",
            "\u001b[?25hRequirement already satisfied: numpy>=1.16.0 in /usr/local/lib/python3.10/dist-packages (from pymatting) (1.25.2)\n",
            "Requirement already satisfied: pillow>=5.2.0 in /usr/local/lib/python3.10/dist-packages (from pymatting) (9.4.0)\n",
            "Requirement already satisfied: numba!=0.49.0 in /usr/local/lib/python3.10/dist-packages (from pymatting) (0.58.1)\n",
            "Requirement already satisfied: scipy>=1.1.0 in /usr/local/lib/python3.10/dist-packages (from pymatting) (1.11.4)\n",
            "Requirement already satisfied: llvmlite<0.42,>=0.41.0dev0 in /usr/local/lib/python3.10/dist-packages (from numba!=0.49.0->pymatting) (0.41.1)\n",
            "Installing collected packages: pymatting\n",
            "Successfully installed pymatting-1.1.12\n"
          ]
        }
      ]
    },
    {
      "cell_type": "code",
      "source": [],
      "metadata": {
        "id": "CUNEsFXbJJXk"
      },
      "execution_count": null,
      "outputs": []
    },
    {
      "cell_type": "code",
      "source": [
        "from pymatting import *\n",
        "from pymatting import load_image"
      ],
      "metadata": {
        "id": "a8_WoQrFOHLT"
      },
      "execution_count": 13,
      "outputs": []
    },
    {
      "cell_type": "code",
      "source": [
        "import cv2"
      ],
      "metadata": {
        "id": "WR4hunfdUzox"
      },
      "execution_count": null,
      "outputs": []
    },
    {
      "cell_type": "code",
      "source": [
        "image = load_image(\"/content/drive/MyDrive/bam/subject.jpg\", \"RGB\", 1.0, \"box\")\n",
        "\n",
        "trimap = load_image(\"/content/drive/MyDrive/bam/trimaps/trimapping.png\", \"GRAY\", 1.0, \"nearest\")"
      ],
      "metadata": {
        "id": "r8bV5TYhOthS"
      },
      "execution_count": 14,
      "outputs": []
    },
    {
      "cell_type": "code",
      "source": [
        "alpha = estimate_alpha_cf(image, trimap)"
      ],
      "metadata": {
        "id": "zRKaGMTXOtra"
      },
      "execution_count": 15,
      "outputs": []
    },
    {
      "cell_type": "code",
      "source": [
        "from google.colab import drive\n",
        "drive.mount('/content/drive')\n"
      ],
      "metadata": {
        "colab": {
          "base_uri": "https://localhost:8080/"
        },
        "id": "uG8cXd18Q1Sr",
        "outputId": "a9bb1699-affe-48f8-b9ba-56675496fdd6"
      },
      "execution_count": 3,
      "outputs": [
        {
          "output_type": "stream",
          "name": "stdout",
          "text": [
            "Mounted at /content/drive\n"
          ]
        }
      ]
    },
    {
      "cell_type": "code",
      "source": [
        "import matplotlib.pyplot as plt"
      ],
      "metadata": {
        "id": "sZu6ScEzTz-W"
      },
      "execution_count": 16,
      "outputs": []
    },
    {
      "cell_type": "code",
      "source": [
        "plt.imshow(alpha,cmap='gray')\n",
        "plt.axis('off')"
      ],
      "metadata": {
        "colab": {
          "base_uri": "https://localhost:8080/",
          "height": 423
        },
        "id": "fJPctJyIT6Co",
        "outputId": "f088a28c-464e-4498-a13a-8bb2ff00d11c"
      },
      "execution_count": 17,
      "outputs": [
        {
          "output_type": "execute_result",
          "data": {
            "text/plain": [
              "(-0.5, 505.5, 696.5, -0.5)"
            ]
          },
          "metadata": {},
          "execution_count": 17
        },
        {
          "output_type": "display_data",
          "data": {
            "text/plain": [
              "<Figure size 640x480 with 1 Axes>"
            ],
            "image/png": "[encoded data removed]"
          },
          "metadata": {}
        }
      ]
    }
  ]
}